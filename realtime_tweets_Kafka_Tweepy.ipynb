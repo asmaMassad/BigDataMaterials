{
 "cells": [
  {
   "cell_type": "markdown",
   "metadata": {},
   "source": [
    "# Ingesting realtime tweets using Apache Kafka, Tweepy and Python\n",
    "\n",
    "### Purpose:\n",
    "- main data source for the lambda architecture pipeline\n",
    "- uses twitter streaming API to simulate new events coming in every minute\n",
    "- Kafka Producer sends the tweets as records to the Kafka Broker\n",
    "\n",
    "### Contents: \n",
    "- [Twitter setup](#1)\n",
    "- [Defining the Kafka producer](#2)\n",
    "- [Producing and sending records to the Kafka Broker](#3)\n",
    "- [Deployment](#4)"
   ]
  },
  {
   "cell_type": "markdown",
   "metadata": {},
   "source": [
    "### Required libraries"
   ]
  },
  {
   "cell_type": "code",
   "execution_count": 1,
   "metadata": {},
   "outputs": [],
   "source": [
    "import tweepy\n",
    "import time\n",
    "from kafka import KafkaConsumer, KafkaProducer"
   ]
  },
  {
   "cell_type": "markdown",
   "metadata": {},
   "source": [
    "<a id=\"1\"></a>\n",
    "### Twitter setup\n",
    "- getting the API object using authorization information\n",
    "- you can find more details on how to get the authorization here:\n",
    "https://developer.twitter.com/en/docs/basics/authentication/overview"
   ]
  },
  {
   "cell_type": "code",
   "execution_count": 2,
   "metadata": {},
   "outputs": [],
   "source": [
    "# twitter setup ## fill here\n",
    "consumer_key = \"fDWZ7bd7l2iYzyZdeZbz2Kv0s\"\n",
    "consumer_secret = \"u1FsSOGTCPKPXeQXvHltK0yu1Oo2utjTYJEWRAxcEqM0Yghn3K\"\n",
    "access_token = \"939519071380525058-csGMphZlQY25exMW9zZ6LH3nrs1e6xJ\"\n",
    "access_token_secret = \"Lj52HnyIpPpFhSvnVyq0yfjKpfqTKCt7vNfmQHd3p7HdP\""
   ]
  },
  {
   "cell_type": "code",
   "execution_count": 3,
   "metadata": {},
   "outputs": [],
   "source": [
    "\n",
    "# Creating the authentication object\n",
    "auth = tweepy.OAuthHandler(consumer_key, consumer_secret)\n",
    "# Setting your access token and secret\n",
    "auth.set_access_token(access_token, access_token_secret)\n",
    "# Creating the API object by passing in auth information\n",
    "api = tweepy.API(auth) \n",
    "\n"
   ]
  },
  {
   "cell_type": "markdown",
   "metadata": {},
   "source": [
    "A helper function to normalize the time a tweet was created with the time of our system"
   ]
  },
  {
   "cell_type": "code",
   "execution_count": 4,
   "metadata": {},
   "outputs": [],
   "source": [
    "from datetime import datetime, timedelta\n",
    "\n",
    "def normalize_timestamp(time):\n",
    "    mytime = datetime.strptime(time, \"%Y-%m-%d %H:%M:%S\")\n",
    "    mytime += timedelta(hours=1)   # the tweets are timestamped in GMT timezone, while I am in +1 timezone\n",
    "    return (mytime.strftime(\"%Y-%m-%d %H:%M:%S\")) "
   ]
  },
  {
   "cell_type": "markdown",
   "metadata": {},
   "source": [
    "<a id=\"2\"></a>\n",
    "### Defining the Kafka producer\n",
    "- specify the Kafka Broker\n",
    "- specify the topic name\n",
    "- optional: specify partitioning strategy"
   ]
  },
  {
   "cell_type": "code",
   "execution_count": 5,
   "metadata": {},
   "outputs": [],
   "source": [
    "producer = KafkaProducer(bootstrap_servers='localhost:9092')\n",
    "topic_name = 'test'"
   ]
  },
  {
   "cell_type": "markdown",
   "metadata": {},
   "source": [
    "<a id=\"3\"></a>\n",
    "### Producing and sending records to the Kafka Broker\n",
    "- querying the Twitter API Object\n",
    "- extracting relevant information from the response\n",
    "- formatting and sending the data to proper topic on the Kafka Broker\n",
    "- resulting tweets have following attributes:\n",
    "    - id \n",
    "    - created_at\n",
    "    - followers_count\n",
    "    - location\n",
    "    - favorite_count\n",
    "    - retweet_count"
   ]
  },
  {
   "cell_type": "code",
   "execution_count": 6,
   "metadata": {},
   "outputs": [],
   "source": [
    "def get_twitter_data():\n",
    "    res = api.search_tweets(q =\"#\", lang='en-us',result_type=\"recent\")\n",
    "    for i in res:\n",
    "        record = ''\n",
    "         \n",
    "        #record += str(i.user.id_str )\n",
    "        #record += ';'\n",
    "        #record += str(i.created_at)\n",
    "        #record += ';'\n",
    "        #record += str(i.user.followers_count)\n",
    "        #record += ';'      \n",
    "        #record += str(i.coordinates)\n",
    "        #record += ';'\n",
    "        #record += str(i.favorite_count)\n",
    "        #record += ';'\n",
    "        #record += str(i.retweet_count)\n",
    "        #record += ';'\n",
    "        #if i.coordinates !=None:\n",
    "        record += str(i.created_at)\n",
    "        record += ';'\n",
    "        record += str(i.coordinates)\n",
    "        record += ';'\n",
    "        record = str(i.text)\n",
    "        print(record)\n",
    "        print(\"-------------------------------\")\n",
    "        producer.send(topic_name,  record.encode('utf-8')  )"
   ]
  },
  {
   "cell_type": "code",
   "execution_count": 7,
   "metadata": {},
   "outputs": [
    {
     "name": "stdout",
     "output_type": "stream",
     "text": [
      "RT @naser99799: but NASA and others hide this truth from the worlds and NASA the so-called protector of planet Earth from the dangers of th…\n",
      "-------------------------------\n",
      "@NASA_Marshall @NASAUniverse You might want to check thermal nuc invac perclution with emac math\n",
      "-------------------------------\n",
      "@SkyNews About as qualified as I am to apply for NASA\n",
      "-------------------------------\n",
      "RT @CNBC: NASA awards Blue Origin, Northrop Grumman and Nanoracks with contracts to build space stations https://t.co/0hXcYf5YJ4\n",
      "-------------------------------\n",
      "@KennedyMmari @Semkae @MustaphaBurhani @NASA Would prefer that for I certainly know you would use same inconclusive… https://t.co/SsEOwiVeOv\n",
      "-------------------------------\n",
      "RT @NASA360: Here's a bright, asymmetrical planetary nebula to liven up your day. This @NASAHubble image reveals a wealth of structure, inc…\n",
      "-------------------------------\n",
      "RT @dylan: Thank you @NASA for entrusting the @VoyagerSH @Nanoracks and @LockheedMartin team with this critical infrastructure project to h…\n",
      "-------------------------------\n",
      "NASA is awarding Blue Origin, Nanoracks and Northrop Grumman a combined $415.6 M in seed money for commercial LEO s… https://t.co/Uag0WaabYf\n",
      "-------------------------------\n",
      "RT @konstructivizm: Uranus was discovered by William Hershel in 1781. He originally named the planet George (the Georgium Sidus) after King…\n",
      "-------------------------------\n",
      "RT @PaulBrinkmann: #BREAKING -- Who will build the next #spacestation ?   NASA awards $415.6 million to three companies:\n",
      "* Blue Origin of K…\n",
      "-------------------------------\n",
      "@NASA_Langley @NASAaero @NASAArmstrong @NASAAmes @NASA Fly&amp;Future=Focos*Magic Energy.\n",
      "Just Time...\n",
      "-------------------------------\n",
      "RT @NASA: 🤩 What a view! @AstroMarshburn catches a ride on the Canadarm2 robotic arm to move around the @Space_Station during today's space…\n",
      "-------------------------------\n",
      "RT @SciGuySpace: NASA has selected three companies to move forward with \"commercial LEO desintations,\" or private space stations:\n",
      "\n",
      "Blue Ori…\n",
      "-------------------------------\n",
      "RT @TGMetsFan98: NASA has signed agreements with three companies for the development of commercial space stations in low Earth orbit:\n",
      "\n",
      "Blue…\n",
      "-------------------------------\n",
      "Lockheed, Nanoracks team awarded $160M contract by NASA for Starlab design\n",
      "$LMT\n",
      "-------------------------------\n"
     ]
    }
   ],
   "source": [
    "get_twitter_data()"
   ]
  },
  {
   "cell_type": "markdown",
   "metadata": {},
   "source": [
    "<a id=\"4\"></a>\n",
    "### Deployment \n",
    "- perform the task every couple of minutes and wait in between"
   ]
  },
  {
   "cell_type": "code",
   "execution_count": 8,
   "metadata": {},
   "outputs": [],
   "source": [
    "def periodic_work(interval):\n",
    "    while True:\n",
    "        get_twitter_data()\n",
    "        #interval should be an integer, the number of seconds to wait\n",
    "        time.sleep(interval)\n"
   ]
  },
  {
   "cell_type": "code",
   "execution_count": null,
   "metadata": {},
   "outputs": [
    {
     "name": "stdout",
     "output_type": "stream",
     "text": [
      "RT @naser99799: but NASA and others hide this truth from the worlds and NASA the so-called protector of planet Earth from the dangers of th…\n",
      "-------------------------------\n",
      "@NASA_Marshall @NASAUniverse You might want to check thermal nuc invac perclution with emac math\n",
      "-------------------------------\n",
      "@SkyNews About as qualified as I am to apply for NASA\n",
      "-------------------------------\n",
      "RT @CNBC: NASA awards Blue Origin, Northrop Grumman and Nanoracks with contracts to build space stations https://t.co/0hXcYf5YJ4\n",
      "-------------------------------\n",
      "@KennedyMmari @Semkae @MustaphaBurhani @NASA Would prefer that for I certainly know you would use same inconclusive… https://t.co/SsEOwiVeOv\n",
      "-------------------------------\n",
      "RT @NASA360: Here's a bright, asymmetrical planetary nebula to liven up your day. This @NASAHubble image reveals a wealth of structure, inc…\n",
      "-------------------------------\n",
      "RT @dylan: Thank you @NASA for entrusting the @VoyagerSH @Nanoracks and @LockheedMartin team with this critical infrastructure project to h…\n",
      "-------------------------------\n",
      "NASA is awarding Blue Origin, Nanoracks and Northrop Grumman a combined $415.6 M in seed money for commercial LEO s… https://t.co/Uag0WaabYf\n",
      "-------------------------------\n",
      "RT @konstructivizm: Uranus was discovered by William Hershel in 1781. He originally named the planet George (the Georgium Sidus) after King…\n",
      "-------------------------------\n",
      "RT @PaulBrinkmann: #BREAKING -- Who will build the next #spacestation ?   NASA awards $415.6 million to three companies:\n",
      "* Blue Origin of K…\n",
      "-------------------------------\n",
      "@NASA_Langley @NASAaero @NASAArmstrong @NASAAmes @NASA Fly&amp;Future=Focos*Magic Energy.\n",
      "Just Time...\n",
      "-------------------------------\n",
      "RT @NASA: 🤩 What a view! @AstroMarshburn catches a ride on the Canadarm2 robotic arm to move around the @Space_Station during today's space…\n",
      "-------------------------------\n",
      "RT @SciGuySpace: NASA has selected three companies to move forward with \"commercial LEO desintations,\" or private space stations:\n",
      "\n",
      "Blue Ori…\n",
      "-------------------------------\n",
      "RT @TGMetsFan98: NASA has signed agreements with three companies for the development of commercial space stations in low Earth orbit:\n",
      "\n",
      "Blue…\n",
      "-------------------------------\n",
      "Lockheed, Nanoracks team awarded $160M contract by NASA for Starlab design\n",
      "$LMT\n",
      "-------------------------------\n",
      "RT @thesheetztweetz: NASA awards three companies with over $400 million in contracts to develop private space stations, under the Commercia…\n",
      "-------------------------------\n",
      "NASA Selects Companies to Develop Commercial Destinations in Space via NASA https://t.co/Wu6gF7KaWt\n",
      "-------------------------------\n",
      "@TheRealCoolmath this but i learn how to make a rocket engine and work at nasa at 11 years old and credit coolmathg… https://t.co/gTRSbw5R2o\n",
      "-------------------------------\n",
      "NASA Selects Companies to Develop Commercial Destinations in Space via NASA https://t.co/CrFJ8ltRki\n",
      "-------------------------------\n",
      "Blue Origin and Sierra Space – with Boeing, Redwire, and Genesis Engineering – is building Orbital Reef.\n",
      "\n",
      "The compa… https://t.co/l1Ffk0W0Vm\n",
      "-------------------------------\n",
      "@StevenW44946909 @FlatSlugbrains @inbybits2 @keigh_see @BrianNazarenus @garethkett @badibulgator @ReadECAM… https://t.co/rr3pWJ6IGz\n",
      "-------------------------------\n",
      "RT @konstructivizm: First Color View of Titan's Surface\n",
      "NASA https://t.co/Kvvq1uftkp\n",
      "-------------------------------\n",
      "Did you tune in? Awesome job NASA! https://t.co/I097hWC9K1\n",
      "-------------------------------\n",
      "@brenthatley Right on time according to NASA's Dennis Bushnell and the Future Strategic Warfare 2025 document from… https://t.co/bNgbzFmKbb\n",
      "-------------------------------\n",
      "RT @NASA: POV: You’re tethered to the @Space_Station orbiting above your home planet. https://t.co/cWTE0pU2qc\n",
      "-------------------------------\n",
      "#CuriosityRover image taken on #Sol3312 with #Mastcam #Mars #NASA #Space https://t.co/MXo6Si4f9j\n",
      "-------------------------------\n",
      "RT @NASA: POV: You’re tethered to the @Space_Station orbiting above your home planet. https://t.co/cWTE0pU2qc\n",
      "-------------------------------\n",
      "Congratulations to @blueorigin @Nanoracks and @northropgrumman on their selection for NASA’s CLD Phase 1 program https://t.co/FBRQUjpI1s\n",
      "-------------------------------\n",
      "@DLR_en @DLR_SpaceAgency @NASA @NASA_TESS @esa @DLR_de @ESO @ScienceMagazine GJ 367 b #exoplanet Is 31 Light years… https://t.co/L1sPbQLUbs\n",
      "-------------------------------\n",
      "RT @naser99799: but NASA and others hide this truth from the worlds and NASA the so-called protector of planet Earth from the dangers of th…\n",
      "-------------------------------\n",
      "RT @thesheetztweetz: NASA awards three companies with over $400 million in contracts to develop private space stations, under the Commercia…\n",
      "-------------------------------\n",
      "RT @thesheetztweetz: Blue Origin and Sierra Space – with Boeing, Redwire, and Genesis Engineering – is building Orbital Reef.\n",
      "\n",
      "The companie…\n",
      "-------------------------------\n",
      "RT @thesheetztweetz: NASA awards three companies with over $400 million in contracts to develop private space stations, under the Commercia…\n",
      "-------------------------------\n",
      "RT @FLASHdrought: [30/Nov] #Flashdrought outlook with #NASA SMAP #SoilMoisture @DroughtCenter @TAMUGeosciences @tamubaen #drought21 #hydrol…\n",
      "-------------------------------\n",
      "RT @NASA: POV: You’re tethered to the @Space_Station orbiting above your home planet. https://t.co/cWTE0pU2qc\n",
      "-------------------------------\n",
      "#Science NASA Probes Hole in Atmosphere Above North Pole; Can This Affect GPS, Radio Signals on Earth?… https://t.co/cS6AdaZMhI\n",
      "-------------------------------\n",
      "RT @SciGuySpace: NASA has selected three companies to move forward with \"commercial LEO desintations,\" or private space stations:\n",
      "\n",
      "Blue Ori…\n",
      "-------------------------------\n",
      "RT @SciGuySpace: NASA has selected three companies to move forward with \"commercial LEO desintations,\" or private space stations:\n",
      "\n",
      "Blue Ori…\n",
      "-------------------------------\n",
      "RT @csa_asc: MEDIA - Government of Canada addresses healthcare challenges in remote communities and beyond: https://t.co/4ql2HGSDc1 \n",
      "\n",
      "Photo…\n",
      "-------------------------------\n",
      "RT @joroulette: NASA picks three companies to develop initial designs for commercial space stations, dolling out $415.6 million total: \n",
      "\n",
      "Bl…\n",
      "-------------------------------\n",
      "NASA private space station contracts: Blue Origin, Nanoracks, Northrop https://t.co/pVoqOOOaKC\n",
      "-------------------------------\n",
      "Congratulations to CSF Members @Nanoracks and @VoyagerSH on their $160 million contract with NASA to design its Sta… https://t.co/TxRCjc8idB\n",
      "-------------------------------\n",
      "RT @thesheetztweetz: NASA awards three companies with over $400 million in contracts to develop private space stations, under the Commercia…\n",
      "-------------------------------\n",
      "RT @amyklobuchar: Congratulations, Mr. Becker! Doesn’t get any cooler than a class where you get to build things for NASA! \n",
      "\n",
      "https://t.co/W…\n",
      "-------------------------------\n",
      "RT @Grasyang__: HELP ME BOOST THIS ONE🥺\n",
      "Hello po asking for your help. We're selling some popfic and psicom books. Kung may binabalak po ka…\n",
      "-------------------------------\n"
     ]
    }
   ],
   "source": [
    "periodic_work(30) "
   ]
  },
  {
   "cell_type": "code",
   "execution_count": null,
   "metadata": {},
   "outputs": [],
   "source": []
  },
  {
   "cell_type": "code",
   "execution_count": null,
   "metadata": {},
   "outputs": [],
   "source": []
  }
 ],
 "metadata": {
  "kernelspec": {
   "display_name": "Python 3",
   "language": "python",
   "name": "python3"
  },
  "language_info": {
   "codemirror_mode": {
    "name": "ipython",
    "version": 3
   },
   "file_extension": ".py",
   "mimetype": "text/x-python",
   "name": "python",
   "nbconvert_exporter": "python",
   "pygments_lexer": "ipython3",
   "version": "3.8.5"
  }
 },
 "nbformat": 4,
 "nbformat_minor": 2
}
